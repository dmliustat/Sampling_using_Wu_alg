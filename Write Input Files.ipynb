{
 "cells": [
  {
   "cell_type": "markdown",
   "id": "c4e0448a",
   "metadata": {},
   "source": [
    "## Load packages"
   ]
  },
  {
   "cell_type": "code",
   "execution_count": 157,
   "id": "7fffd314",
   "metadata": {},
   "outputs": [],
   "source": [
    "import subprocess, msprime, tskit, os, statistics, pyslim\n",
    "import numpy as np\n",
    "import pandas as pd\n",
    "import random\n",
    "import matplotlib.pyplot as plt\n",
    "import math\n",
    "import os\n",
    "import pickle"
   ]
  },
  {
   "cell_type": "markdown",
   "id": "6307ad03",
   "metadata": {},
   "source": [
    "## Write input files"
   ]
  },
  {
   "cell_type": "code",
   "execution_count": 158,
   "id": "4f89ee62",
   "metadata": {},
   "outputs": [],
   "source": [
    "def WriteInput(ts, Nrun, SampleSize, Ne, Stop, SeqLen, MutRate, RecRate, seed1, seed2, filename):\n",
    "    filename_tmp = filename + \"1\"\n",
    "    f1 = open(filename_tmp,\"w+\")\n",
    "    f1.write(\"Number of runs = %d\\n\" % Nrun)\n",
    "    f1.write(\"Effective population size = %d\\n\" % Ne)\n",
    "    f1.write(\"Recombination = %.15f\\n\" % RecRate)\n",
    "    f1.write(\"Mutation = %.15f\\n\" % MutRate)\n",
    "    f1.write(\"Length = %f\\n\" % SeqLen)\n",
    "    f1.write(\"Stop = %d\\n\" % Stop)\n",
    "    f1.write(\"Fix seed = %d, %d\\n\" % (seed1, seed2))\n",
    "    f1.write(\"#\")\n",
    "    f1.close()\n",
    "    \n",
    "    filename_tmp = filename + \"2\"\n",
    "    f2 = open(filename_tmp,\"w+\")\n",
    "    \n",
    "    # Get distinct haplotypes\n",
    "    geno =  ts.genotype_matrix() \n",
    "    L = len(geno)\n",
    "    f2.write(\"Loci = %d\\n\" % (L+1))\n",
    "    SampleSize = ts.get_sample_size()\n",
    "    f2.write(\"Genes = %d\\n\" % SampleSize)\n",
    "          \n",
    "    # initialise with the first distinct haplotype\n",
    "    haps_1 = [0]\n",
    "    haps_2 = [geno[i][0] for i in range(L)]\n",
    "    haps = np.hstack((haps_1, haps_2))\n",
    "    # the number of this haplotype is 1\n",
    "    #haps.append(1)\n",
    "    haps = np.hstack((haps, [1]))\n",
    "    haps = np.array([haps])\n",
    "    ntype = 1\n",
    "    order = [0]\n",
    "\n",
    "    for j in range(1,SampleSize):\n",
    "        new_1 = [0]\n",
    "        new_2 = [geno[i][j] for i in range(L)]\n",
    "        new = np.hstack((new_1, new_2))\n",
    "        flag = 0 # flag=0: a new distinct haplotype\n",
    "        for k in range(ntype):\n",
    "            if(haps[k][:(L+1)].tolist() == new.tolist()):\n",
    "                haps[k][(L+1)] += 1\n",
    "                flag = 1\n",
    "                order.append(j)\n",
    "                break\n",
    "        if flag == 0:\n",
    "            order.append(ntype)\n",
    "            ntype += 1\n",
    "            #new.append(1)\n",
    "            new = np.hstack((new, [1]))\n",
    "            haps = np.vstack([haps, new]) \n",
    "          \n",
    "    f2.write(\"Distinct Haplotypes = %d\\n\" % ntype)\n",
    "    tot=0\n",
    "    for i in range(ntype):\n",
    "        tot = tot+ np.sum(haps[i,:(L+1)])*haps[i,(L+1)]\n",
    "    stationary = tot/(L*SampleSize)\n",
    "    f2.write(\"Stationary = %.5f\\n\" % (1-stationary))\n",
    "    \n",
    "    f2.write(\"Haplotypes\\n\")\n",
    "    for i in range(haps.shape[0]):\n",
    "        for j in range(haps.shape[1]):\n",
    "            if j == L+1:\n",
    "                f2.write(\"%d\\n\" % haps[i][j])\n",
    "            else:\n",
    "                f2.write(\"%d \" % haps[i][j])\n",
    "    \n",
    "    # Mutation transition rates\n",
    "    f2.write(\"\\nMutation\\n0.0 1.0 0.0 1.0\\n\")\n",
    "             \n",
    "    # Genetic positions\n",
    "    f2.write(\"\\nPositions\\n\")\n",
    "    positions = [0.0]\n",
    "    for s in ts.sites():\n",
    "        positions.append(s.position)\n",
    "    for i in range(len(positions)):\n",
    "        f2.write(\"%.2f \" %(positions[i]))\n",
    "             \n",
    "    f2.write(\"\\n#\")\n",
    "    f2.close()\n",
    "    order = sorted(range(len(order)), key=lambda k: order[k])\n",
    "    return order, L, 1-stationary;"
   ]
  },
  {
   "cell_type": "markdown",
   "id": "29cb563a",
   "metadata": {},
   "source": [
    "## Set parameters"
   ]
  },
  {
   "cell_type": "code",
   "execution_count": 156,
   "id": "ce8a198d",
   "metadata": {},
   "outputs": [],
   "source": [
    "Ne = 775\n",
    "SampleSize = 20\n",
    "Nrun = 5000 # number of SIS runs\n",
    "Stop = 11 # the stopping criteria\n",
    "SeqLen = 16569 # sequence length\n",
    "MutRate = 2.6e-7 # mutation rate\n",
    "RecRate = 0 # recombination rate\n",
    "seed1 = 1 # seed1 and seed2 are used in our C progra m\n",
    "seed2 = 10\n",
    "seed = 123\n",
    "filename = \"C:\\\\Users\\\\blabl\\\\Desktop\\\\git repos\\\\Sampling_Wu\\\\infile\""
   ]
  },
  {
   "cell_type": "markdown",
   "id": "a4072d99",
   "metadata": {},
   "source": [
    "## Sample case and control sequences\n",
    "To sample case sequences, the easier way is to find nodes that contribute to exactly ten sequences at present. The ten sequences at present are set to case sequences. If such nodes are not enough, I look for nodes that contribute to more than ten sequences at present, and then randomly select ten sequences out of the present-time-children of such nodes. In this example, there are eight nodes that contribute to exactly ten sequences at present."
   ]
  },
  {
   "cell_type": "code",
   "execution_count": 145,
   "id": "5f6b87d4",
   "metadata": {},
   "outputs": [
    {
     "name": "stdout",
     "output_type": "stream",
     "text": [
      "clade 126 contribute to 10 samples\n",
      "clade 210 contribute to 10 samples\n",
      "clade 285 contribute to 10 samples\n",
      "clade 294 contribute to 10 samples\n",
      "clade 417 contribute to 10 samples\n",
      "clade 448 contribute to 10 samples\n",
      "clade 779 contribute to 10 samples\n",
      "clade 1146 contribute to 10 samples\n"
     ]
    }
   ],
   "source": [
    "tree = pyslim.load(\"C:\\\\Users\\\\blabl\\\\Dropbox\\\\RA_project\\\\SliM\\\\recipe_new.trees\")\n",
    "tot = 0\n",
    "for c in range(Ne*2):\n",
    "    clade1 = c\n",
    "    count = 0\n",
    "    ts = tree.at(100)\n",
    "    for s in range(Ne*2, Ne*4):\n",
    "        if ts.is_descendant(s, clade1):\n",
    "            count = count + 1\n",
    "    if count>0:\n",
    "        tot = tot + count\n",
    "        if count == 10:\n",
    "            print(\"clade %d contribute to %d samples\" %(c, count))"
   ]
  },
  {
   "cell_type": "code",
   "execution_count": 159,
   "id": "5c2829ac",
   "metadata": {},
   "outputs": [
    {
     "data": {
      "text/plain": [
       "[1721, 1867, 1880, 1882, 1925, 2130, 2169, 2338, 2386, 2466]"
      ]
     },
     "execution_count": 159,
     "metadata": {},
     "output_type": "execute_result"
    }
   ],
   "source": [
    "roots = [126] # node 126, 210, 285, 294, 417, 448, 779 and 1146 contribute to ten sequences at present\n",
    "s1 = []\n",
    "\n",
    "ts = tree.at(100)\n",
    "for s in range(Ne*2, Ne*4):\n",
    "    if ts.is_descendant(s, roots[0]):\n",
    "        s1.append(s)\n",
    "cases = s1\n",
    "cases"
   ]
  },
  {
   "cell_type": "code",
   "execution_count": 160,
   "id": "b3994bbb",
   "metadata": {},
   "outputs": [
    {
     "data": {
      "text/plain": [
       "array([2930, 2459, 2010, 2627, 1679, 2579, 3082, 2632, 2854, 2442])"
      ]
     },
     "execution_count": 160,
     "metadata": {},
     "output_type": "execute_result"
    }
   ],
   "source": [
    "np.random.seed(18)\n",
    "rest = [x for x in range(Ne*2, Ne*4) if x not in cases]\n",
    "control = np.random.choice(rest, size=(SampleSize - len(cases)), replace=False)\n",
    "control"
   ]
  },
  {
   "cell_type": "markdown",
   "id": "c48ea1f7",
   "metadata": {},
   "source": [
    "## Get the tree for the selected sample sequences\n",
    "1. Do recapitation to the original SLiM tree\n",
    "2. Simplify the recapitated tree so the simplified tree only contians history of the selected sample sequences\n",
    "3. Add mutations to the simplified tree\n",
    "4. Get the haplotypes that will be used to write the input files for the C program"
   ]
  },
  {
   "cell_type": "code",
   "execution_count": 161,
   "id": "2acb581f",
   "metadata": {},
   "outputs": [],
   "source": [
    "tree_re = pyslim.recapitate(tree, ancestral_Ne=Ne, recombination_rate=0, random_seed=seed)\n",
    "com = np.hstack([cases, control])\n",
    "tree_com = tree_re.simplify(samples=com, keep_unary=True, map_nodes=True)\n",
    "map_node = tree_com[1]\n",
    "tree_com = msprime.sim_mutations(tree_com[0], rate=MutRate, random_seed=seed, keep=True)\n",
    "geno_com = tree_com.genotype_matrix()"
   ]
  },
  {
   "cell_type": "code",
   "execution_count": 162,
   "id": "a99c3123",
   "metadata": {},
   "outputs": [
    {
     "data": {
      "text/plain": [
       "(26, 20)"
      ]
     },
     "execution_count": 162,
     "metadata": {},
     "output_type": "execute_result"
    }
   ],
   "source": [
    "np.shape(geno_com) # 26 segregating sites, 20 sequences"
   ]
  },
  {
   "cell_type": "code",
   "execution_count": 163,
   "id": "604ea0c1",
   "metadata": {},
   "outputs": [
    {
     "name": "stdout",
     "output_type": "stream",
     "text": [
      "68.0\t('C', 'T')\t[0 0 0 0 0 0 0 0 0 0 0 0 0 0 0 0 1 0 0 0]\n",
      "712.0\t('A', 'G')\t[0 0 0 0 0 0 0 0 0 0 0 0 1 0 0 0 0 1 0 0]\n",
      "1378.0\t('T', 'A')\t[0 0 0 0 0 0 0 0 0 0 0 0 0 0 0 0 0 0 1 0]\n",
      "1798.0\t('C', 'G')\t[0 0 0 0 0 0 0 0 0 0 0 0 0 0 0 1 0 0 0 0]\n",
      "3200.0\t('G', 'C')\t[1 1 1 1 1 1 1 1 1 1 0 1 0 1 1 0 0 0 1 1]\n",
      "3618.0\t('G', 'C')\t[0 0 0 0 0 0 0 0 0 0 1 0 0 0 0 1 0 0 0 0]\n",
      "3832.0\t('G', 'A')\t[0 0 0 0 0 0 0 0 0 0 0 0 0 0 0 0 1 0 0 0]\n",
      "4482.0\t('A', 'T')\t[0 0 0 0 0 0 0 0 0 0 0 0 0 0 0 0 0 0 0 1]\n",
      "4652.0\t('T', 'C')\t[0 0 0 0 0 0 0 0 0 0 1 0 0 0 0 0 0 0 0 0]\n",
      "4866.0\t('T', 'C')\t[1 1 1 1 1 1 1 1 1 1 0 1 0 1 1 0 0 0 1 1]\n",
      "5134.0\t('A', 'G')\t[0 0 0 0 0 0 0 0 0 0 0 0 1 0 0 0 0 1 0 0]\n",
      "5248.0\t('C', 'G')\t[0 0 0 0 0 0 0 0 0 0 1 0 1 0 0 1 1 1 0 0]\n",
      "6095.0\t('G', 'A')\t[0 0 0 0 0 0 0 0 0 0 1 0 0 0 0 1 0 0 0 0]\n",
      "6299.0\t('T', 'A')\t[0 0 0 0 0 0 0 0 0 0 0 0 0 0 0 0 1 0 0 0]\n",
      "6376.0\t('T', 'C')\t[0 0 0 0 0 0 0 0 0 0 1 0 1 0 0 1 1 1 0 0]\n",
      "7625.0\t('C', 'T')\t[1 1 1 1 1 1 1 1 1 1 0 1 0 1 1 0 0 0 1 1]\n",
      "7904.0\t('G', 'C')\t[0 0 0 0 0 0 0 0 0 0 0 0 1 0 0 0 0 1 0 0]\n",
      "8457.0\t('T', 'C')\t[0 0 0 0 0 0 0 0 0 0 0 0 1 0 0 0 0 1 0 0]\n",
      "8607.0\t('C', 'G')\t[0 0 0 0 0 0 0 0 0 0 0 0 0 1 0 0 0 0 0 0]\n",
      "9099.0\t('G', 'T')\t[0 0 0 0 0 0 0 0 0 0 0 0 0 0 0 0 1 0 0 0]\n",
      "9224.0\t('A', 'C')\t[0 0 0 0 0 0 0 0 0 0 0 0 0 0 0 0 1 0 0 0]\n",
      "10392.0\t('G', 'T')\t[0 0 0 0 0 0 0 0 0 0 0 0 0 0 0 0 0 0 0 1]\n",
      "10571.0\t('T', 'C')\t[0 0 0 0 0 0 0 0 0 0 0 0 0 0 0 0 1 0 0 0]\n",
      "12638.0\t('T', 'G')\t[0 0 0 0 0 0 0 0 0 0 1 0 0 0 0 1 0 0 0 0]\n",
      "14473.0\t('A', 'C')\t[0 0 0 0 0 0 0 0 0 0 1 0 0 0 0 1 0 0 0 0]\n",
      "14660.0\t('C', 'A')\t[1 1 1 1 1 1 1 1 1 1 0 1 0 1 1 0 0 0 1 1]\n"
     ]
    }
   ],
   "source": [
    "for var in tree_com.variants():\n",
    "    print(var.site.position, var.alleles, var.genotypes, sep=\"\\t\")"
   ]
  },
  {
   "cell_type": "code",
   "execution_count": 164,
   "id": "93d9e515",
   "metadata": {},
   "outputs": [],
   "source": [
    "# store the ID of the MRCA of case clade in the simplified tree \n",
    "new_case_MRCA = map_node[roots[0]]"
   ]
  },
  {
   "cell_type": "code",
   "execution_count": 165,
   "id": "afa2bd4a",
   "metadata": {},
   "outputs": [
    {
     "data": {
      "text/plain": [
       "True"
      ]
     },
     "execution_count": 165,
     "metadata": {},
     "output_type": "execute_result"
    }
   ],
   "source": [
    "# check if the samples are descendants of their MRCA\n",
    "tree_com.at(100).is_descendant(0, new_case_MRCA)"
   ]
  },
  {
   "cell_type": "markdown",
   "id": "5da02b35",
   "metadata": {},
   "source": [
    "## Write the input files for the C program"
   ]
  },
  {
   "cell_type": "code",
   "execution_count": 166,
   "id": "75cdf301",
   "metadata": {},
   "outputs": [],
   "source": [
    "order_com = WriteInput(tree_com, Nrun, SampleSize, Ne, Stop, SeqLen, MutRate, RecRate, seed1, seed2, filename)"
   ]
  },
  {
   "cell_type": "markdown",
   "id": "41a3c6e5",
   "metadata": {},
   "source": [
    "## Count the number of mutations before MRCA of case clade is found"
   ]
  },
  {
   "cell_type": "code",
   "execution_count": 167,
   "id": "649041fd",
   "metadata": {},
   "outputs": [],
   "source": [
    "# get the node time of the case clade's MRCA\n",
    "case_MRCA_time = tree_com.tables.nodes[new_case_MRCA].time"
   ]
  },
  {
   "cell_type": "code",
   "execution_count": 168,
   "id": "45a291cf",
   "metadata": {},
   "outputs": [
    {
     "data": {
      "text/plain": [
       "0"
      ]
     },
     "execution_count": 168,
     "metadata": {},
     "output_type": "execute_result"
    }
   ],
   "source": [
    "sum(tree_com.tables.mutations.time < case_MRCA_time)"
   ]
  },
  {
   "cell_type": "code",
   "execution_count": null,
   "id": "6a9df68f",
   "metadata": {},
   "outputs": [],
   "source": []
  }
 ],
 "metadata": {
  "kernelspec": {
   "display_name": "Python (msprime)",
   "language": "python",
   "name": "msprime-env"
  },
  "language_info": {
   "codemirror_mode": {
    "name": "ipython",
    "version": 3
   },
   "file_extension": ".py",
   "mimetype": "text/x-python",
   "name": "python",
   "nbconvert_exporter": "python",
   "pygments_lexer": "ipython3",
   "version": "3.10.4"
  }
 },
 "nbformat": 4,
 "nbformat_minor": 5
}
