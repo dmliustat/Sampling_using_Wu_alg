{
 "cells": [
  {
   "cell_type": "markdown",
   "id": "e3040ff9",
   "metadata": {},
   "source": [
    "## Load packages"
   ]
  },
  {
   "cell_type": "code",
   "execution_count": 157,
   "id": "dd2dac03",
   "metadata": {},
   "outputs": [],
   "source": [
    "import subprocess, msprime, tskit, os, statistics, pyslim\n",
    "import numpy as np\n",
    "import pandas as pd\n",
    "import random\n",
    "import matplotlib.pyplot as plt\n",
    "import math\n",
    "import os\n",
    "import pickle"
   ]
  },
  {
   "cell_type": "markdown",
   "id": "42666b7a",
   "metadata": {},
   "source": [
    "## Write input files"
   ]
  },
  {
   "cell_type": "code",
   "execution_count": 158,
   "id": "b85b9137",
   "metadata": {},
   "outputs": [],
   "source": [
    "def WriteInput(ts, Nrun, SampleSize, Ne, Stop, SeqLen, MutRate, RecRate, seed1, seed2, filename):\n",
    "    filename_tmp = filename + \"1\"\n",
    "    f1 = open(filename_tmp,\"w+\")\n",
    "    f1.write(\"Number of runs = %d\\n\" % Nrun)\n",
    "    f1.write(\"Effective population size = %d\\n\" % Ne)\n",
    "    f1.write(\"Recombination = %.15f\\n\" % RecRate)\n",
    "    f1.write(\"Mutation = %.15f\\n\" % MutRate)\n",
    "    f1.write(\"Length = %f\\n\" % SeqLen)\n",
    "    f1.write(\"Stop = %d\\n\" % Stop)\n",
    "    f1.write(\"Fix seed = %d, %d\\n\" % (seed1, seed2))\n",
    "    f1.write(\"#\")\n",
    "    f1.close()\n",
    "    \n",
    "    filename_tmp = filename + \"2\"\n",
    "    f2 = open(filename_tmp,\"w+\")\n",
    "    \n",
    "    # Get distinct haplotypes\n",
    "    geno =  ts.genotype_matrix() \n",
    "    L = len(geno)\n",
    "    f2.write(\"Loci = %d\\n\" % (L+1))\n",
    "    SampleSize = ts.get_sample_size()\n",
    "    f2.write(\"Genes = %d\\n\" % SampleSize)\n",
    "          \n",
    "    # initialise with the first distinct haplotype\n",
    "    haps_1 = [0]\n",
    "    haps_2 = [geno[i][0] for i in range(L)]\n",
    "    haps = np.hstack((haps_1, haps_2))\n",
    "    # the number of this haplotype is 1\n",
    "    #haps.append(1)\n",
    "    haps = np.hstack((haps, [1]))\n",
    "    haps = np.array([haps])\n",
    "    ntype = 1\n",
    "    order = [0]\n",
    "\n",
    "    for j in range(1,SampleSize):\n",
    "        new_1 = [0]\n",
    "        new_2 = [geno[i][j] for i in range(L)]\n",
    "        new = np.hstack((new_1, new_2))\n",
    "        flag = 0 # flag=0: a new distinct haplotype\n",
    "        for k in range(ntype):\n",
    "            if(haps[k][:(L+1)].tolist() == new.tolist()):\n",
    "                haps[k][(L+1)] += 1\n",
    "                flag = 1\n",
    "                order.append(j)\n",
    "                break\n",
    "        if flag == 0:\n",
    "            order.append(ntype)\n",
    "            ntype += 1\n",
    "            #new.append(1)\n",
    "            new = np.hstack((new, [1]))\n",
    "            haps = np.vstack([haps, new]) \n",
    "          \n",
    "    f2.write(\"Distinct Haplotypes = %d\\n\" % ntype)\n",
    "    tot=0\n",
    "    for i in range(ntype):\n",
    "        tot = tot+ np.sum(haps[i,:(L+1)])*haps[i,(L+1)]\n",
    "    stationary = tot/(L*SampleSize)\n",
    "    f2.write(\"Stationary = %.5f\\n\" % (1-stationary))\n",
    "    \n",
    "    f2.write(\"Haplotypes\\n\")\n",
    "    for i in range(haps.shape[0]):\n",
    "        for j in range(haps.shape[1]):\n",
    "            if j == L+1:\n",
    "                f2.write(\"%d\\n\" % haps[i][j])\n",
    "            else:\n",
    "                f2.write(\"%d \" % haps[i][j])\n",
    "    \n",
    "    # Mutation transition rates\n",
    "    f2.write(\"\\nMutation\\n0.0 1.0 0.0 1.0\\n\")\n",
    "             \n",
    "    # Genetic positions\n",
    "    f2.write(\"\\nPositions\\n\")\n",
    "    positions = [0.0]\n",
    "    for s in ts.sites():\n",
    "        positions.append(s.position)\n",
    "    for i in range(len(positions)):\n",
    "        f2.write(\"%.2f \" %(positions[i]))\n",
    "             \n",
    "    f2.write(\"\\n#\")\n",
    "    f2.close()\n",
    "    order = sorted(range(len(order)), key=lambda k: order[k])\n",
    "    return order, L, 1-stationary;"
   ]
  },
  {
   "cell_type": "markdown",
   "id": "7a623c0b",
   "metadata": {},
   "source": [
    "## Set parameters"
   ]
  },
  {
   "cell_type": "code",
   "execution_count": 180,
   "id": "9fcd5ab1",
   "metadata": {},
   "outputs": [],
   "source": [
    "Ne = 775\n",
    "SampleSize = 20\n",
    "Nrun = 5000 # number of SIS runs\n",
    "Stop = 11 # the stopping criteria\n",
    "SeqLen = 16569 # sequence length\n",
    "MutRate = 2.6e-7 # mutation rate\n",
    "RecRate = 0 # recombination rate\n",
    "seed1 = 1 # seed1 and seed2 are used in our C progra m\n",
    "seed2 = 10\n",
    "seed = 123\n",
    "filename = \"C:\\\\Users\\\\blabl\\\\Desktop\\\\git repos\\\\Sampling_Wu\\\\data8_infile\""
   ]
  },
  {
   "cell_type": "markdown",
   "id": "4dc95d09",
   "metadata": {},
   "source": [
    "## Sample case and control sequences\n",
    "To sample case sequences, the easier way is to find nodes that contribute to exactly ten sequences at present. The ten sequences at present are set to case sequences. If such nodes are not enough, I look for nodes that contribute to more than ten sequences at present, and then randomly select ten sequences out of the present-time-children of such nodes. In this example, there are eight nodes that contribute to exactly ten sequences at present."
   ]
  },
  {
   "cell_type": "code",
   "execution_count": 196,
   "id": "fc17a0bc",
   "metadata": {},
   "outputs": [
    {
     "name": "stdout",
     "output_type": "stream",
     "text": [
      "clade 27 contribute to 11 samples\n",
      "clade 38 contribute to 13 samples\n",
      "clade 68 contribute to 12 samples\n",
      "clade 126 contribute to 10 samples\n",
      "clade 129 contribute to 13 samples\n",
      "clade 162 contribute to 12 samples\n",
      "clade 210 contribute to 10 samples\n",
      "clade 285 contribute to 10 samples\n",
      "clade 294 contribute to 10 samples\n",
      "clade 340 contribute to 15 samples\n",
      "clade 408 contribute to 20 samples\n",
      "clade 417 contribute to 10 samples\n",
      "clade 440 contribute to 11 samples\n",
      "clade 448 contribute to 10 samples\n",
      "clade 607 contribute to 12 samples\n",
      "clade 697 contribute to 11 samples\n",
      "clade 711 contribute to 11 samples\n",
      "clade 779 contribute to 10 samples\n",
      "clade 830 contribute to 14 samples\n",
      "clade 855 contribute to 16 samples\n",
      "clade 1004 contribute to 20 samples\n",
      "clade 1019 contribute to 19 samples\n",
      "clade 1067 contribute to 13 samples\n",
      "clade 1146 contribute to 10 samples\n",
      "clade 1169 contribute to 12 samples\n",
      "clade 1197 contribute to 13 samples\n",
      "clade 1234 contribute to 11 samples\n",
      "clade 1260 contribute to 14 samples\n",
      "clade 1272 contribute to 18 samples\n",
      "clade 1330 contribute to 14 samples\n",
      "clade 1380 contribute to 11 samples\n",
      "clade 1385 contribute to 12 samples\n",
      "check:1550 samples in total\n"
     ]
    }
   ],
   "source": [
    "tree = pyslim.load(\"C:\\\\Users\\\\blabl\\\\Dropbox\\\\RA_project\\\\SliM\\\\recipe_new.trees\")\n",
    "tot = 0\n",
    "clade_MRCA1 = [] # store nodes that contribute to exactly ten samples at present\n",
    "clade_MRCA2 = [] # store nodes that contribute to more than ten samples\n",
    "for c in range(Ne*2):\n",
    "    #clade = c\n",
    "    count = 0\n",
    "    ts = tree.at(100)\n",
    "    for s in range(Ne*2, Ne*4):\n",
    "        if ts.is_descendant(s, c):\n",
    "            count = count + 1\n",
    "    if count>0:\n",
    "        tot = tot + count\n",
    "        if count == 10:\n",
    "            clade_MRCA1.append(c)\n",
    "            print(\"clade %d contribute to %d samples\" %(c, count))\n",
    "        if count > 10:\n",
    "            clade_MRCA2.append(c)\n",
    "            print(\"clade %d contribute to %d samples\" %(c, count))\n",
    "print(\"check:%d samples in total\" % tot)"
   ]
  },
  {
   "cell_type": "code",
   "execution_count": 183,
   "id": "f3768d67",
   "metadata": {},
   "outputs": [
    {
     "data": {
      "text/plain": [
       "[1707, 2040, 2067, 2199, 2395, 2458, 2543, 2568, 2809, 3095]"
      ]
     },
     "execution_count": 183,
     "metadata": {},
     "output_type": "execute_result"
    }
   ],
   "source": [
    "# For nodes that contribute to exactly ten sequences\n",
    "cases = []\n",
    "ts = tree.at(100)\n",
    "for s in range(Ne*2, Ne*4):\n",
    "    if ts.is_descendant(s, clade_MRCA1[0]):\n",
    "        cases.append(s)\n",
    "cases"
   ]
  },
  {
   "cell_type": "code",
   "execution_count": 184,
   "id": "9f6310cb",
   "metadata": {},
   "outputs": [
    {
     "data": {
      "text/plain": [
       "array([2929, 2455, 2006, 2625, 1679, 2577, 3081, 2630, 2853, 2438])"
      ]
     },
     "execution_count": 184,
     "metadata": {},
     "output_type": "execute_result"
    }
   ],
   "source": [
    "np.random.seed(18)\n",
    "rest = [x for x in range(Ne*2, Ne*4) if x not in cases]\n",
    "control = np.random.choice(rest, size=(SampleSize - len(cases)), replace=False)\n",
    "control"
   ]
  },
  {
   "cell_type": "markdown",
   "id": "fdf42ea1",
   "metadata": {},
   "source": [
    "## Get the tree for the selected sample sequences\n",
    "1. Do recapitation to the original SLiM tree\n",
    "2. Simplify the recapitated tree so the simplified tree only contians history of the selected sample sequences\n",
    "3. Add mutations to the simplified tree\n",
    "4. Get the haplotypes that will be used to write the input files for the C program"
   ]
  },
  {
   "cell_type": "code",
   "execution_count": 185,
   "id": "d9157021",
   "metadata": {},
   "outputs": [],
   "source": [
    "tree_re = pyslim.recapitate(tree, ancestral_Ne=Ne, recombination_rate=0, random_seed=seed)\n",
    "com = np.hstack([cases, control])\n",
    "tree_com = tree_re.simplify(samples=com, keep_unary=True, map_nodes=True)\n",
    "map_node = tree_com[1]\n",
    "tree_com = msprime.sim_mutations(tree_com[0], rate=MutRate, random_seed=seed, keep=True)\n",
    "geno_com = tree_com.genotype_matrix()"
   ]
  },
  {
   "cell_type": "code",
   "execution_count": 186,
   "id": "9e14202c",
   "metadata": {},
   "outputs": [
    {
     "data": {
      "text/plain": [
       "(17, 20)"
      ]
     },
     "execution_count": 186,
     "metadata": {},
     "output_type": "execute_result"
    }
   ],
   "source": [
    "np.shape(geno_com) # 26 segregating sites, 20 sequences"
   ]
  },
  {
   "cell_type": "code",
   "execution_count": 187,
   "id": "2259b3a6",
   "metadata": {},
   "outputs": [
    {
     "name": "stdout",
     "output_type": "stream",
     "text": [
      "68.0\t('C', 'T')\t[1 1 1 1 1 1 1 1 1 1 1 1 1 1 1 1 1 1 0 0]\n",
      "712.0\t('A', 'G')\t[1 1 1 1 1 1 1 1 1 1 1 1 1 1 1 1 1 1 0 0]\n",
      "955.0\t('C', 'T')\t[1 1 1 1 1 1 1 1 1 1 1 1 1 1 1 1 1 1 0 0]\n",
      "1378.0\t('G', 'A')\t[0 0 0 0 0 0 0 0 0 0 1 0 0 0 1 1 0 1 0 0]\n",
      "2536.0\t('G', 'C')\t[0 0 0 0 0 0 0 0 0 0 0 0 0 0 0 0 0 0 1 1]\n",
      "2987.0\t('A', 'C')\t[0 0 0 0 0 0 0 0 0 0 0 0 0 1 0 0 0 0 0 0]\n",
      "3832.0\t('A', 'T')\t[1 1 1 1 1 1 1 1 1 1 1 1 1 1 1 1 1 1 0 0]\n",
      "4482.0\t('C', 'G')\t[0 0 0 0 0 0 0 0 0 0 0 1 0 0 0 0 1 0 0 0]\n",
      "5281.0\t('G', 'A')\t[0 0 0 0 0 0 0 0 0 0 0 0 0 0 0 0 0 0 1 1]\n",
      "6299.0\t('T', 'A')\t[1 1 1 1 1 1 1 1 1 1 1 1 1 1 1 1 1 1 0 0]\n",
      "6510.0\t('G', 'T')\t[1 1 1 1 1 1 1 1 1 1 1 1 1 1 1 1 1 1 0 0]\n",
      "7904.0\t('T', 'C')\t[0 0 0 0 0 0 0 0 0 0 0 0 0 1 0 0 0 0 0 0]\n",
      "9099.0\t('C', 'T')\t[1 1 1 1 1 1 1 1 1 1 1 1 1 1 1 1 1 1 0 0]\n",
      "9224.0\t('C', 'T')\t[1 1 1 1 1 1 1 1 1 1 1 1 1 1 1 1 1 1 0 0]\n",
      "10392.0\t('C', 'T')\t[1 1 1 1 1 1 1 1 1 1 1 0 1 0 1 1 0 1 0 0]\n",
      "10571.0\t('A', 'G')\t[1 1 1 1 1 1 1 1 1 1 1 1 1 1 1 1 1 1 0 0]\n",
      "14498.0\t('T', 'A')\t[1 1 1 1 1 1 1 1 1 1 1 1 1 1 1 1 1 1 0 0]\n"
     ]
    }
   ],
   "source": [
    "for var in tree_com.variants():\n",
    "    print(var.site.position, var.alleles, var.genotypes, sep=\"\\t\")"
   ]
  },
  {
   "cell_type": "code",
   "execution_count": 188,
   "id": "daa83fd9",
   "metadata": {},
   "outputs": [],
   "source": [
    "# store the ID of the MRCA of case clade in the simplified tree \n",
    "new_case_MRCA = map_node[clade_MRCA1[0]]"
   ]
  },
  {
   "cell_type": "code",
   "execution_count": 189,
   "id": "50a5db76",
   "metadata": {},
   "outputs": [
    {
     "data": {
      "text/plain": [
       "True"
      ]
     },
     "execution_count": 189,
     "metadata": {},
     "output_type": "execute_result"
    }
   ],
   "source": [
    "# check if the samples are descendants of their MRCA\n",
    "tree_com.at(100).is_descendant(0, new_case_MRCA)"
   ]
  },
  {
   "cell_type": "markdown",
   "id": "9bb00b5a",
   "metadata": {},
   "source": [
    "## Write the input files for the C program"
   ]
  },
  {
   "cell_type": "code",
   "execution_count": 190,
   "id": "c0d8158a",
   "metadata": {},
   "outputs": [],
   "source": [
    "order_com = WriteInput(tree_com, Nrun, SampleSize, Ne, Stop, SeqLen, MutRate, RecRate, seed1, seed2, filename)"
   ]
  },
  {
   "cell_type": "markdown",
   "id": "98470b5f",
   "metadata": {},
   "source": [
    "## Count the number of mutations before MRCA of case clade is found"
   ]
  },
  {
   "cell_type": "code",
   "execution_count": 191,
   "id": "8622bba8",
   "metadata": {},
   "outputs": [],
   "source": [
    "# get the node time of the case clade's MRCA\n",
    "case_MRCA_time = tree_com.tables.nodes[new_case_MRCA].time"
   ]
  },
  {
   "cell_type": "code",
   "execution_count": 192,
   "id": "89950811",
   "metadata": {},
   "outputs": [
    {
     "data": {
      "text/plain": [
       "0"
      ]
     },
     "execution_count": 192,
     "metadata": {},
     "output_type": "execute_result"
    }
   ],
   "source": [
    "sum(tree_com.tables.mutations.time < case_MRCA_time)"
   ]
  },
  {
   "cell_type": "code",
   "execution_count": 226,
   "id": "d8052c3e",
   "metadata": {},
   "outputs": [
    {
     "name": "stdout",
     "output_type": "stream",
     "text": [
      "data 1, case MRCA: node 126, number of mutations 0\n",
      "data 2, case MRCA: node 210, number of mutations 0\n",
      "data 3, case MRCA: node 285, number of mutations 0\n",
      "data 4, case MRCA: node 294, number of mutations 0\n",
      "data 5, case MRCA: node 417, number of mutations 0\n",
      "data 6, case MRCA: node 448, number of mutations 0\n",
      "data 7, case MRCA: node 779, number of mutations 0\n",
      "data 8, case MRCA: node 1146, number of mutations 0\n"
     ]
    }
   ],
   "source": [
    "# For nodes that contribute to exactly ten sequences\n",
    "\n",
    "np.random.seed(18)\n",
    "\n",
    "for c in range(len(clade_MRCA1)):\n",
    "    # select cases\n",
    "    samples = []\n",
    "    ts = tree.at(100)\n",
    "    for s in range(Ne*2, Ne*4):\n",
    "        if ts.is_descendant(s, clade_MRCA1[c]):\n",
    "            samples.append(s)\n",
    "    cases = random.sample(samples, int(SampleSize/2))        \n",
    "    \n",
    "    # sample controls\n",
    "    rest = [x for x in range(Ne*2, Ne*4) if x not in samples]\n",
    "    control = np.random.choice(rest, size=(SampleSize - len(cases)), replace=False)\n",
    "    \n",
    "    # tree strucure for cases + controls\n",
    "    tree_re = pyslim.recapitate(tree, ancestral_Ne=Ne, recombination_rate=0, random_seed=seed)\n",
    "    com = np.hstack([cases, control])\n",
    "    tree_com = tree_re.simplify(samples=com, keep_unary=True, map_nodes=True)\n",
    "    map_node = tree_com[1]\n",
    "    tree_com = msprime.sim_mutations(tree_com[0], rate=MutRate, random_seed=seed, keep=True)\n",
    "    geno_com = tree_com.genotype_matrix()\n",
    "    \n",
    "    # count number of mutations before cases' MRCA\n",
    "    new_case_MRCA = map_node[clade_MRCA1[c]]\n",
    "    case_MRCA_time = tree_com.tables.nodes[new_case_MRCA].time\n",
    "    for i in range(len(cases)):\n",
    "        if not tree_com.at(100).is_descendant(i, new_case_MRCA):\n",
    "            print(\"Wrong mapping of node id.\")\n",
    "    mut_num = sum(tree_com.tables.mutations.time < case_MRCA_time)\n",
    "    print(\"data %d, case MRCA: node %d, number of mutations %d\" % (c+1, clade_MRCA1[c], mut_num))\n",
    "    \n",
    "    # write input for C program\n",
    "    filename = \"C:\\\\Users\\\\blabl\\\\Desktop\\\\git repos\\\\Sampling_Wu\\\\data\" + str(c+1+len(clade_MRCA1)) + \"_infile\"\n",
    "    order_com = WriteInput(tree_com, Nrun, SampleSize, Ne, Stop, SeqLen, MutRate, RecRate, seed1, seed2, filename)"
   ]
  },
  {
   "cell_type": "markdown",
   "id": "4e66ede6",
   "metadata": {},
   "source": [
    "## Generate more data sets"
   ]
  },
  {
   "cell_type": "code",
   "execution_count": 225,
   "id": "b40e4c55",
   "metadata": {},
   "outputs": [
    {
     "name": "stdout",
     "output_type": "stream",
     "text": [
      "data 9, case MRCA: node 27, number of mutations 0\n",
      "data 10, case MRCA: node 38, number of mutations 0\n",
      "data 11, case MRCA: node 68, number of mutations 0\n",
      "data 12, case MRCA: node 129, number of mutations 0\n",
      "data 13, case MRCA: node 162, number of mutations 0\n",
      "data 14, case MRCA: node 340, number of mutations 0\n",
      "data 15, case MRCA: node 408, number of mutations 0\n",
      "data 16, case MRCA: node 440, number of mutations 0\n",
      "data 17, case MRCA: node 607, number of mutations 0\n",
      "data 18, case MRCA: node 697, number of mutations 0\n",
      "data 19, case MRCA: node 711, number of mutations 0\n",
      "data 20, case MRCA: node 830, number of mutations 0\n",
      "data 21, case MRCA: node 855, number of mutations 0\n",
      "data 22, case MRCA: node 1004, number of mutations 0\n",
      "data 23, case MRCA: node 1019, number of mutations 0\n",
      "data 24, case MRCA: node 1067, number of mutations 0\n",
      "data 25, case MRCA: node 1169, number of mutations 0\n",
      "data 26, case MRCA: node 1197, number of mutations 0\n",
      "data 27, case MRCA: node 1234, number of mutations 0\n",
      "data 28, case MRCA: node 1260, number of mutations 0\n",
      "data 29, case MRCA: node 1272, number of mutations 0\n",
      "data 30, case MRCA: node 1330, number of mutations 0\n",
      "data 31, case MRCA: node 1380, number of mutations 0\n",
      "data 32, case MRCA: node 1385, number of mutations 0\n"
     ]
    }
   ],
   "source": [
    "# For nodes that contribute to more than ten sequences\n",
    "\n",
    "np.random.seed(18)\n",
    "\n",
    "for c in range(len(clade_MRCA2)):\n",
    "    # select cases\n",
    "    samples = []\n",
    "    ts = tree.at(100)\n",
    "    for s in range(Ne*2, Ne*4):\n",
    "        if ts.is_descendant(s, clade_MRCA2[c]):\n",
    "            samples.append(s)\n",
    "    cases = random.sample(samples, int(SampleSize/2))        \n",
    "    \n",
    "    # sample controls\n",
    "    rest = [x for x in range(Ne*2, Ne*4) if x not in samples]\n",
    "    control = np.random.choice(rest, size=(SampleSize - len(cases)), replace=False)\n",
    "    \n",
    "    # tree strucure for cases + controls\n",
    "    tree_re = pyslim.recapitate(tree, ancestral_Ne=Ne, recombination_rate=0, random_seed=seed)\n",
    "    com = np.hstack([cases, control])\n",
    "    tree_com = tree_re.simplify(samples=com, keep_unary=True, map_nodes=True)\n",
    "    map_node = tree_com[1]\n",
    "    tree_com = msprime.sim_mutations(tree_com[0], rate=MutRate, random_seed=seed, keep=True)\n",
    "    geno_com = tree_com.genotype_matrix()\n",
    "    \n",
    "    # count number of mutations before cases' MRCA\n",
    "    new_case_MRCA = map_node[clade_MRCA2[c]]\n",
    "    case_MRCA_time = tree_com.tables.nodes[new_case_MRCA].time\n",
    "    for i in range(len(cases)):\n",
    "        if not tree_com.at(100).is_descendant(i, new_case_MRCA):\n",
    "            print(\"Wrong mapping of node id.\")\n",
    "    mut_num = sum(tree_com.tables.mutations.time < case_MRCA_time)\n",
    "    print(\"data %d, case MRCA: node %d, number of mutations %d\" % (c+1+len(clade_MRCA1), clade_MRCA2[c], mut_num))\n",
    "    \n",
    "    # write input for C program\n",
    "    filename = \"C:\\\\Users\\\\blabl\\\\Desktop\\\\git repos\\\\Sampling_Wu\\\\data\" + str(c+1+len(clade_MRCA1)) + \"_infile\"\n",
    "    order_com = WriteInput(tree_com, Nrun, SampleSize, Ne, Stop, SeqLen, MutRate, RecRate, seed1, seed2, filename)\n"
   ]
  },
  {
   "cell_type": "code",
   "execution_count": null,
   "id": "75229e30",
   "metadata": {},
   "outputs": [],
   "source": []
  }
 ],
 "metadata": {
  "kernelspec": {
   "display_name": "Python (msprime)",
   "language": "python",
   "name": "msprime-env"
  },
  "language_info": {
   "codemirror_mode": {
    "name": "ipython",
    "version": 3
   },
   "file_extension": ".py",
   "mimetype": "text/x-python",
   "name": "python",
   "nbconvert_exporter": "python",
   "pygments_lexer": "ipython3",
   "version": "3.10.4"
  }
 },
 "nbformat": 4,
 "nbformat_minor": 5
}
